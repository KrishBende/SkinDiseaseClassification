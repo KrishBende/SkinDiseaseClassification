{
 "cells": [
  {
   "cell_type": "code",
   "execution_count": 2,
   "id": "bc50863d",
   "metadata": {},
   "outputs": [
    {
     "name": "stdout",
     "output_type": "stream",
     "text": [
      "Note: you may need to restart the kernel to use updated packages.\n"
     ]
    },
    {
     "name": "stderr",
     "output_type": "stream",
     "text": [
      "ERROR: Could not find a version that satisfies the requirement cv2 (from versions: none)\n",
      "ERROR: No matching distribution found for cv2\n"
     ]
    }
   ],
   "source": [
    "pip install cv2"
   ]
  },
  {
   "cell_type": "code",
   "execution_count": 2,
   "id": "a9523a90-ea29-49ce-bc7b-9c5f5b0586bf",
   "metadata": {},
   "outputs": [
    {
     "ename": "ModuleNotFoundError",
     "evalue": "No module named 'cv2'",
     "output_type": "error",
     "traceback": [
      "\u001b[1;31m---------------------------------------------------------------------------\u001b[0m",
      "\u001b[1;31mModuleNotFoundError\u001b[0m                       Traceback (most recent call last)",
      "\u001b[1;32m~\\AppData\\Local\\Temp\\ipykernel_16576\\521636205.py\u001b[0m in \u001b[0;36m<module>\u001b[1;34m\u001b[0m\n\u001b[0;32m      1\u001b[0m \u001b[1;32mimport\u001b[0m \u001b[0mnumpy\u001b[0m \u001b[1;32mas\u001b[0m \u001b[0mnp\u001b[0m\u001b[1;33m\u001b[0m\u001b[1;33m\u001b[0m\u001b[0m\n\u001b[0;32m      2\u001b[0m \u001b[1;32mimport\u001b[0m \u001b[0mos\u001b[0m\u001b[1;33m\u001b[0m\u001b[1;33m\u001b[0m\u001b[0m\n\u001b[1;32m----> 3\u001b[1;33m \u001b[1;32mimport\u001b[0m \u001b[0mcv2\u001b[0m\u001b[1;33m\u001b[0m\u001b[1;33m\u001b[0m\u001b[0m\n\u001b[0m\u001b[0;32m      4\u001b[0m \u001b[1;32mimport\u001b[0m \u001b[0mrandom\u001b[0m\u001b[1;33m\u001b[0m\u001b[1;33m\u001b[0m\u001b[0m\n\u001b[0;32m      5\u001b[0m \u001b[1;32mimport\u001b[0m \u001b[0mmatplotlib\u001b[0m\u001b[1;33m.\u001b[0m\u001b[0mpyplot\u001b[0m \u001b[1;32mas\u001b[0m \u001b[0mplt\u001b[0m\u001b[1;33m\u001b[0m\u001b[1;33m\u001b[0m\u001b[0m\n",
      "\u001b[1;31mModuleNotFoundError\u001b[0m: No module named 'cv2'"
     ]
    }
   ],
   "source": [
    "import numpy as np\n",
    "import os\n",
    "import cv2\n",
    "import random\n",
    "import matplotlib.pyplot as plt\n",
    "#import pathlib\n",
    "import tensorflow as tf\n",
    "from tensorflow.keras.applications import ResNet50\n",
    "from tensorflow.keras.applications.resnet50 import preprocess_input\n",
    "from tensorflow.keras.models import Model\n",
    "from tensorflow.keras.layers import GlobalAveragePooling2D, Dense\n",
    "from sklearn.preprocessing import LabelEncoder\n",
    "from tensorflow.keras.utils import to_categorical\n",
    "from tensorflow.keras.models import load_model\n",
    "from sklearn.metrics import confusion_matrix,accuracy_score\n",
    "import seaborn as sns\n",
    "from tensorflow.keras.callbacks import ModelCheckpoint\n",
    "import pandas as pd\n",
    "import pickle\n",
    "#from tensorflow.keras.models import Sequential\n",
    "#from tensorflow.keras.layers import Conv2D, MaxPooling2D, Flatten, Dense"
   ]
  },
  {
   "cell_type": "code",
   "execution_count": 9,
   "id": "5be1ba38-94c0-4530-8a51-0dc17790d4b3",
   "metadata": {},
   "outputs": [
    {
     "name": "stdout",
     "output_type": "stream",
     "text": [
      "['Acne and Rosacea', 'Atopic Dermatitis', 'Bullous Disease', 'Cellulitis Impetigo, Bacterial Infection', 'Eczema', 'Exanthems and Drug Eruptions', 'Hair Loss Alopecia, Hair Diseases', 'Herpes HPV and other STDs', 'Light Diseases, Pigmentation Disorders', 'Lupus, Connective Tissue diseases', 'Malignant Lesions', 'Melanoma Skin Cancer Nevi and Moles', 'Nail Fungus and other Nail Disease', 'Poison Ivy, Contact Dermatitis', 'Psoriasis Lichen Planus']\n",
      "Class name =  Acne and Rosacea\n",
      "count      =  840\n",
      "proportion =  0.08701957940536621\n",
      "-------------------------------------\n",
      "Class name =  Atopic Dermatitis\n",
      "count      =  489\n",
      "proportion =  0.05065782658240962\n",
      "-------------------------------------\n",
      "Class name =  Bullous Disease\n",
      "count      =  448\n",
      "proportion =  0.046410442349528645\n",
      "-------------------------------------\n",
      "Class name =  Cellulitis Impetigo, Bacterial Infection\n",
      "count      =  288\n",
      "proportion =  0.02983528436755413\n",
      "-------------------------------------\n",
      "Class name =  Eczema\n",
      "count      =  1235\n",
      "proportion =  0.1279395006733658\n",
      "-------------------------------------\n",
      "Class name =  Exanthems and Drug Eruptions\n",
      "count      =  404\n",
      "proportion =  0.041852273904485655\n",
      "-------------------------------------\n",
      "Class name =  Hair Loss Alopecia, Hair Diseases\n",
      "count      =  239\n",
      "proportion =  0.024759142235574433\n",
      "-------------------------------------\n",
      "Class name =  Herpes HPV and other STDs\n",
      "count      =  405\n",
      "proportion =  0.04195586864187299\n",
      "-------------------------------------\n",
      "Class name =  Light Diseases, Pigmentation Disorders\n",
      "count      =  568\n",
      "proportion =  0.058841810836009534\n",
      "-------------------------------------\n",
      "Class name =  Lupus, Connective Tissue diseases\n",
      "count      =  420\n",
      "proportion =  0.043509789702683106\n",
      "-------------------------------------\n",
      "Class name =  Malignant Lesions\n",
      "count      =  1149\n",
      "proportion =  0.11903035325805449\n",
      "-------------------------------------\n",
      "Class name =  Melanoma Skin Cancer Nevi and Moles\n",
      "count      =  463\n",
      "proportion =  0.04796436341033875\n",
      "-------------------------------------\n",
      "Class name =  Nail Fungus and other Nail Disease\n",
      "count      =  1040\n",
      "proportion =  0.10773852688283435\n",
      "-------------------------------------\n",
      "Class name =  Poison Ivy, Contact Dermatitis\n",
      "count      =  260\n",
      "proportion =  0.026934631720708587\n",
      "-------------------------------------\n",
      "Class name =  Psoriasis Lichen Planus\n",
      "count      =  1405\n",
      "proportion =  0.1455506060292137\n",
      "-------------------------------------\n",
      "total training image count = 9653 \n",
      "\n"
     ]
    },
    {
     "data": {
      "image/png": "[encoded data removed]",
      "text/plain": [
       "<Figure size 640x480 with 1 Axes>"
      ]
     },
     "metadata": {},
     "output_type": "display_data"
    }
   ],
   "source": [
    "data_add = \"C:/Users/krish/Hackathon/derment machine testing/train\"\n",
    "classes = []\n",
    "for folder in os.listdir(data_add):\n",
    "    if os.path.isdir(os.path.join(data_add, folder)):\n",
    "        classes.append(folder)\n",
    "print(classes)\n",
    "\n",
    "num_classes = len(classes)\n",
    "total = 0\n",
    "all_count = []\n",
    "class_name = []\n",
    "proportions = []\n",
    "data_path = pathlib.Path(\"C:/Users/krish/Hackathon/derment machine testing/train\")\n",
    "# Calculate total number of images and count images per class\n",
    "for class_name in classes:\n",
    "    count = len(list(data_path.glob(f\"{class_name}/*.jpg\")))\n",
    "    total += count\n",
    "    all_count.append(count)\n",
    "\n",
    "# Calculate proportions and print information for each class\n",
    "for i in range(num_classes):\n",
    "    proportion = all_count[i] / total\n",
    "    proportions.append(proportion)\n",
    "    print(\"Class name = \", classes[i])\n",
    "    print(\"count      = \", all_count[i])\n",
    "    print(\"proportion = \", proportion)\n",
    "    print(\"-------------------------------------\")\n",
    "print(\"total training image count = {} \\n\".format(total))\n",
    "\n",
    "# Plotting\n",
    "temp_df = pd.DataFrame(list(zip(all_count, class_name)), columns=['count', 'class_name'])\n",
    "sns.barplot(data=temp_df, y=\"count\", x=\"class_name\")\n",
    "plt.xticks(rotation=90)\n",
    "plt.show()"
   ]
  },
  {
   "cell_type": "code",
   "execution_count": 10,
   "id": "2c4f7a6a-4e14-493b-b814-57306a36f07c",
   "metadata": {},
   "outputs": [
    {
     "name": "stdout",
     "output_type": "stream",
     "text": [
      "Initialised with 840 image(s) found.\n",
      "Output directory set to C:/Users/krish/Hackathon/derment machine testing/AugmentedTrainingClasses\\Acne and Rosacea."
     ]
    },
    {
     "name": "stderr",
     "output_type": "stream",
     "text": [
      "Processing <PIL.JpegImagePlugin.JpegImageFile image mode=RGB size=720x472 at 0x25E59C99308>: 100%|██████████| 1500/1500 [00:06<00:00, 244.65 Samples/s]\n"
     ]
    },
    {
     "name": "stdout",
     "output_type": "stream",
     "text": [
      "Initialised with 489 image(s) found.\n",
      "Output directory set to C:/Users/krish/Hackathon/derment machine testing/AugmentedTrainingClasses\\Atopic Dermatitis."
     ]
    },
    {
     "name": "stderr",
     "output_type": "stream",
     "text": [
      "Processing <PIL.Image.Image image mode=RGB size=484x720 at 0x25E587BD908>: 100%|██████████| 1500/1500 [00:06<00:00, 240.96 Samples/s]                  \n"
     ]
    },
    {
     "name": "stdout",
     "output_type": "stream",
     "text": [
      "Initialised with 448 image(s) found.\n",
      "Output directory set to C:/Users/krish/Hackathon/derment machine testing/AugmentedTrainingClasses\\Bullous Disease."
     ]
    },
    {
     "name": "stderr",
     "output_type": "stream",
     "text": [
      "Processing <PIL.Image.Image image mode=RGB size=720x472 at 0x25E58770B48>: 100%|██████████| 1500/1500 [00:06<00:00, 229.30 Samples/s]                  \n"
     ]
    },
    {
     "name": "stdout",
     "output_type": "stream",
     "text": [
      "Initialised with 288 image(s) found.\n",
      "Output directory set to C:/Users/krish/Hackathon/derment machine testing/AugmentedTrainingClasses\\Cellulitis Impetigo, Bacterial Infection."
     ]
    },
    {
     "name": "stderr",
     "output_type": "stream",
     "text": [
      "Processing <PIL.Image.Image image mode=RGB size=475x720 at 0x25E57D27388>: 100%|██████████| 1500/1500 [00:06<00:00, 226.41 Samples/s]                  \n"
     ]
    },
    {
     "name": "stdout",
     "output_type": "stream",
     "text": [
      "Initialised with 1235 image(s) found.\n",
      "Output directory set to C:/Users/krish/Hackathon/derment machine testing/AugmentedTrainingClasses\\Eczema."
     ]
    },
    {
     "name": "stderr",
     "output_type": "stream",
     "text": [
      "Processing <PIL.Image.Image image mode=RGB size=720x472 at 0x25E59CAF488>: 100%|██████████| 1500/1500 [00:07<00:00, 194.27 Samples/s]                  \n"
     ]
    },
    {
     "name": "stdout",
     "output_type": "stream",
     "text": [
      "Initialised with 404 image(s) found.\n",
      "Output directory set to C:/Users/krish/Hackathon/derment machine testing/AugmentedTrainingClasses\\Exanthems and Drug Eruptions."
     ]
    },
    {
     "name": "stderr",
     "output_type": "stream",
     "text": [
      "Processing <PIL.Image.Image image mode=RGB size=720x598 at 0x25E558F1488>: 100%|██████████| 1500/1500 [00:08<00:00, 178.65 Samples/s]                  \n"
     ]
    },
    {
     "name": "stdout",
     "output_type": "stream",
     "text": [
      "Initialised with 239 image(s) found.\n",
      "Output directory set to C:/Users/krish/Hackathon/derment machine testing/AugmentedTrainingClasses\\Hair Loss Alopecia, Hair Diseases."
     ]
    },
    {
     "name": "stderr",
     "output_type": "stream",
     "text": [
      "Processing <PIL.Image.Image image mode=RGB size=720x472 at 0x25E587C0A88>: 100%|██████████| 1500/1500 [00:08<00:00, 187.44 Samples/s]                  \n"
     ]
    },
    {
     "name": "stdout",
     "output_type": "stream",
     "text": [
      "Initialised with 405 image(s) found.\n",
      "Output directory set to C:/Users/krish/Hackathon/derment machine testing/AugmentedTrainingClasses\\Herpes HPV and other STDs."
     ]
    },
    {
     "name": "stderr",
     "output_type": "stream",
     "text": [
      "Processing <PIL.Image.Image image mode=RGB size=720x594 at 0x25E55D04F08>: 100%|██████████| 1500/1500 [00:07<00:00, 199.31 Samples/s]                  \n"
     ]
    },
    {
     "name": "stdout",
     "output_type": "stream",
     "text": [
      "Initialised with 568 image(s) found.\n",
      "Output directory set to C:/Users/krish/Hackathon/derment machine testing/AugmentedTrainingClasses\\Light Diseases, Pigmentation Disorders."
     ]
    },
    {
     "name": "stderr",
     "output_type": "stream",
     "text": [
      "Processing <PIL.Image.Image image mode=RGB size=720x487 at 0x25E587E9EC8>: 100%|██████████| 1500/1500 [00:07<00:00, 194.31 Samples/s]                  \n"
     ]
    },
    {
     "name": "stdout",
     "output_type": "stream",
     "text": [
      "Initialised with 420 image(s) found.\n",
      "Output directory set to C:/Users/krish/Hackathon/derment machine testing/AugmentedTrainingClasses\\Lupus, Connective Tissue diseases."
     ]
    },
    {
     "name": "stderr",
     "output_type": "stream",
     "text": [
      "Processing <PIL.Image.Image image mode=RGB size=720x485 at 0x25E5875D988>: 100%|██████████| 1500/1500 [00:07<00:00, 193.91 Samples/s]                  \n"
     ]
    },
    {
     "name": "stdout",
     "output_type": "stream",
     "text": [
      "Initialised with 1149 image(s) found.\n",
      "Output directory set to C:/Users/krish/Hackathon/derment machine testing/AugmentedTrainingClasses\\Malignant Lesions."
     ]
    },
    {
     "name": "stderr",
     "output_type": "stream",
     "text": [
      "Processing <PIL.Image.Image image mode=RGB size=464x720 at 0x25E5846CFC8>: 100%|██████████| 1500/1500 [00:07<00:00, 202.43 Samples/s]                  \n"
     ]
    },
    {
     "name": "stdout",
     "output_type": "stream",
     "text": [
      "Initialised with 463 image(s) found.\n",
      "Output directory set to C:/Users/krish/Hackathon/derment machine testing/AugmentedTrainingClasses\\Melanoma Skin Cancer Nevi and Moles."
     ]
    },
    {
     "name": "stderr",
     "output_type": "stream",
     "text": [
      "Processing <PIL.Image.Image image mode=RGB size=472x720 at 0x25E565B4E88>: 100%|██████████| 1500/1500 [00:07<00:00, 202.33 Samples/s]                  \n"
     ]
    },
    {
     "name": "stdout",
     "output_type": "stream",
     "text": [
      "Initialised with 1040 image(s) found.\n",
      "Output directory set to C:/Users/krish/Hackathon/derment machine testing/AugmentedTrainingClasses\\Nail Fungus and other Nail Disease."
     ]
    },
    {
     "name": "stderr",
     "output_type": "stream",
     "text": [
      "Processing <PIL.JpegImagePlugin.JpegImageFile image mode=RGB size=720x480 at 0x25E565554C8>: 100%|██████████| 1500/1500 [00:07<00:00, 202.50 Samples/s]\n"
     ]
    },
    {
     "name": "stdout",
     "output_type": "stream",
     "text": [
      "Initialised with 260 image(s) found.\n",
      "Output directory set to C:/Users/krish/Hackathon/derment machine testing/AugmentedTrainingClasses\\Poison Ivy, Contact Dermatitis."
     ]
    },
    {
     "name": "stderr",
     "output_type": "stream",
     "text": [
      "Processing <PIL.Image.Image image mode=RGB size=720x472 at 0x25E57601E08>: 100%|██████████| 1500/1500 [00:08<00:00, 174.98 Samples/s]                  \n"
     ]
    },
    {
     "name": "stdout",
     "output_type": "stream",
     "text": [
      "Initialised with 1405 image(s) found.\n",
      "Output directory set to C:/Users/krish/Hackathon/derment machine testing/AugmentedTrainingClasses\\Psoriasis Lichen Planus."
     ]
    },
    {
     "name": "stderr",
     "output_type": "stream",
     "text": [
      "Processing <PIL.JpegImagePlugin.JpegImageFile image mode=RGB size=479x720 at 0x25E593A15C8>: 100%|██████████| 1500/1500 [00:07<00:00, 199.06 Samples/s]\n"
     ]
    },
    {
     "name": "stdout",
     "output_type": "stream",
     "text": [
      "['Acne and Rosacea', 'Atopic Dermatitis', 'Bullous Disease', 'Cellulitis Impetigo, Bacterial Infection', 'Eczema', 'Exanthems and Drug Eruptions', 'Hair Loss Alopecia, Hair Diseases', 'Herpes HPV and other STDs', 'Light Diseases, Pigmentation Disorders', 'Lupus, Connective Tissue diseases', 'Malignant Lesions', 'Melanoma Skin Cancer Nevi and Moles', 'Nail Fungus and other Nail Disease', 'Poison Ivy, Contact Dermatitis', 'Psoriasis Lichen Planus']\n",
      "Class name =  Acne and Rosacea\n",
      "count      =  1500\n",
      "proportion =  0.06666666666666667\n",
      "-------------------------------------\n",
      "Class name =  Atopic Dermatitis\n",
      "count      =  1500\n",
      "proportion =  0.06666666666666667\n",
      "-------------------------------------\n",
      "Class name =  Bullous Disease\n",
      "count      =  1500\n",
      "proportion =  0.06666666666666667\n",
      "-------------------------------------\n",
      "Class name =  Cellulitis Impetigo, Bacterial Infection\n",
      "count      =  1500\n",
      "proportion =  0.06666666666666667\n",
      "-------------------------------------\n",
      "Class name =  Eczema\n",
      "count      =  1500\n",
      "proportion =  0.06666666666666667\n",
      "-------------------------------------\n",
      "Class name =  Exanthems and Drug Eruptions\n",
      "count      =  1500\n",
      "proportion =  0.06666666666666667\n",
      "-------------------------------------\n",
      "Class name =  Hair Loss Alopecia, Hair Diseases\n",
      "count      =  1500\n",
      "proportion =  0.06666666666666667\n",
      "-------------------------------------\n",
      "Class name =  Herpes HPV and other STDs\n",
      "count      =  1500\n",
      "proportion =  0.06666666666666667\n",
      "-------------------------------------\n",
      "Class name =  Light Diseases, Pigmentation Disorders\n",
      "count      =  1500\n",
      "proportion =  0.06666666666666667\n",
      "-------------------------------------\n",
      "Class name =  Lupus, Connective Tissue diseases\n",
      "count      =  1500\n",
      "proportion =  0.06666666666666667\n",
      "-------------------------------------\n",
      "Class name =  Malignant Lesions\n",
      "count      =  1500\n",
      "proportion =  0.06666666666666667\n",
      "-------------------------------------\n",
      "Class name =  Melanoma Skin Cancer Nevi and Moles\n",
      "count      =  1500\n",
      "proportion =  0.06666666666666667\n",
      "-------------------------------------\n",
      "Class name =  Nail Fungus and other Nail Disease\n",
      "count      =  1500\n",
      "proportion =  0.06666666666666667\n",
      "-------------------------------------\n",
      "Class name =  Poison Ivy, Contact Dermatitis\n",
      "count      =  1500\n",
      "proportion =  0.06666666666666667\n",
      "-------------------------------------\n",
      "Class name =  Psoriasis Lichen Planus\n",
      "count      =  1500\n",
      "proportion =  0.06666666666666667\n",
      "-------------------------------------\n",
      "total training image count = 22500 \n",
      "\n"
     ]
    },
    {
     "data": {
      "image/png": "[encoded data removed]",
      "text/plain": [
       "<Figure size 640x480 with 1 Axes>"
      ]
     },
     "metadata": {},
     "output_type": "display_data"
    }
   ],
   "source": [
    "output_add = \"C:/Users/krish/Hackathon/derment machine testing/AugmentedTrainingClasses\"\n",
    "shutil.rmtree(output_add, ignore_errors=True)\n",
    "os.makedirs(output_add)\n",
    "for class_name in classes:\n",
    "    source_directory = os.path.join(data_path, class_name)\n",
    "    if not os.path.exists(source_directory):\n",
    "        print(f\"Warning: Source directory '{source_directory}' does not exist for class '{class_name}'. Skipping augmentation.\")\n",
    "        continue\n",
    "    output_directory = os.path.join(output_add, class_name)\n",
    "    p = Augmentor.Pipeline(source_directory, output_directory=output_directory)\n",
    "    p.rotate(probability=0.7, max_left_rotation=10, max_right_rotation=10)\n",
    "    p.sample(1500)\n",
    "\n",
    "classes = []\n",
    "output_path = pathlib.Path(\"C:/Users/krish/Hackathon/derment machine testing/AugmentedTrainingClasses\")\n",
    "for folder in os.listdir(output_add):\n",
    "    if os.path.isdir(os.path.join(output_add, folder)):\n",
    "        classes.append(folder)\n",
    "print(classes)\n",
    "\n",
    "num_classes = len(classes)\n",
    "total = 0\n",
    "all_count = []\n",
    "class_name = []\n",
    "proportions = []\n",
    "\n",
    "for class_name in classes:\n",
    "    count = len(list(output_path.glob(f\"{class_name}/*.jpg\")))\n",
    "    total += count\n",
    "    all_count.append(count)\n",
    "\n",
    "# Calculate proportions and print information for each class\n",
    "for i in range(num_classes):\n",
    "    proportion = all_count[i] / total\n",
    "    proportions.append(proportion)\n",
    "    print(\"Class name = \", classes[i])\n",
    "    print(\"count      = \", all_count[i])\n",
    "    print(\"proportion = \", proportion)\n",
    "    print(\"-------------------------------------\")\n",
    "print(\"total training image count = {} \\n\".format(total))\n",
    "\n",
    "# Plotting\n",
    "temp_df = pd.DataFrame(list(zip(all_count, class_name)), columns=['count', 'class_name'])\n",
    "sns.barplot(data=temp_df, y=\"count\", x=\"class_name\")\n",
    "plt.xticks(rotation=90)\n",
    "plt.show()"
   ]
  },
  {
   "cell_type": "code",
   "execution_count": 11,
   "id": "4fddda22-5d25-40b5-85d2-c6957015f7a0",
   "metadata": {},
   "outputs": [],
   "source": [
    "output_add = \"C:/Users/krish/Hackathon/derment machine testing/AugmentedTrainingClasses\""
   ]
  },
  {
   "cell_type": "code",
   "execution_count": 12,
   "id": "0d65ddae-8516-4c92-9e23-e6f0a3393732",
   "metadata": {},
   "outputs": [],
   "source": [
    "dataset_dir = output_add\n",
    "\n",
    "compression_quality = 40\n",
    "\n",
    "for class_folder in os.listdir(dataset_dir):\n",
    "    class_folder_path = os.path.join(dataset_dir, class_folder)\n",
    "    \n",
    "    if os.path.isdir(class_folder_path):\n",
    "        image_files = [filename for filename in os.listdir(class_folder_path) if filename.endswith((\".jpg\", \".jpeg\"))]\n",
    "        \n",
    "        # Determine the number of images to compress (50% of the total)\n",
    "        num_images_to_compress = int(len(image_files) * 0.5)\n",
    "        \n",
    "        # Randomly select a subset of images to compress\n",
    "        images_to_compress = random.sample(image_files, num_images_to_compress)\n",
    "        \n",
    "        # Loop through the selected images and compress them\n",
    "        for filename in images_to_compress:\n",
    "            image_path = os.path.join(class_folder_path, filename)\n",
    "            # Open the image\n",
    "            image = Image.open(image_path)\n",
    "            # Compress and save the image back to the class folder\n",
    "            image.save(image_path, quality=compression_quality)"
   ]
  },
  {
   "cell_type": "code",
   "execution_count": 13,
   "id": "08cbcc18-8728-45db-8d31-c1253ce069c2",
   "metadata": {},
   "outputs": [],
   "source": [
    "data_path = \"C:/Users/krish/Hackathon/derment machine testing/AugmentedTrainingClasses\""
   ]
  },
  {
   "cell_type": "code",
   "execution_count": 14,
   "id": "b780914e-eb35-437f-a870-8d137eb7297a",
   "metadata": {},
   "outputs": [],
   "source": [
    "test_path = 'C:/Users/krish/Hackathon/derment machine testing/test'"
   ]
  },
  {
   "cell_type": "code",
   "execution_count": 15,
   "id": "87de292f-9f28-4060-8950-3d35580efb8b",
   "metadata": {},
   "outputs": [],
   "source": [
    "train_data = []\n",
    "val_data = []\n",
    "\n",
    "for folder in os.listdir(data_path):\n",
    "  folder_path = os.path.join(data_path, folder)\n",
    "  file = os.listdir(folder_path)\n",
    "  num_train = int(0.8 * len(file))\n",
    "  files_train = random.sample(file, num_train)\n",
    "  files_val = list(set(file) - set(files_train))\n",
    "   \n",
    "  for file in files_train:\n",
    "    file_path = os.path.join(folder_path, file)\n",
    "    img = cv2.imread(file_path)\n",
    "    img = cv2.resize(img, (224,224))\n",
    "    train_data.append((img, folder))\n",
    "     \n",
    "  for file in files_val:\n",
    "    file_path = os.path.join(folder_path, file)\n",
    "    img = cv2.imread(file_path)\n",
    "    img = cv2.resize(img, (224,224))\n",
    "    val_data.append((img, folder))"
   ]
  },
  {
   "cell_type": "code",
   "execution_count": 16,
   "id": "20217b0c-a338-4044-b8ed-2d5ac3605d5d",
   "metadata": {},
   "outputs": [],
   "source": [
    "X_train, y_train = zip(*train_data)\n",
    "X_val, y_val = zip(*val_data)\n",
    "\n",
    "X_train = preprocess_input(np.array(X_train))\n",
    "X_val = preprocess_input(np.array(X_val))\n",
    "\n",
    "le = LabelEncoder()\n",
    "y_train_encoded = le.fit_transform(y_train)\n",
    "y_val_encoded = le.transform(y_val)\n",
    "\n",
    "y_train_one_hot = to_categorical(y_train_encoded, num_classes)\n",
    "y_val_one_hot = to_categorical(y_val_encoded, num_classes)"
   ]
  },
  {
   "cell_type": "code",
   "execution_count": 17,
   "id": "5d16b610-b45d-4db3-a618-ff2e3a45a595",
   "metadata": {},
   "outputs": [],
   "source": [
    "# Convert lists to numpy arrays\n",
    "X_train = np.array(X_train)\n",
    "X_val = np.array(X_val)\n",
    "\n",
    "# Save the variables locally\n",
    "np.save('C:/Users/krish/Hackathon/derment machine testing/lists/X_train1500.npy', X_train)\n",
    "np.save('C:/Users/krish/Hackathon/derment machine testing/lists/X_val.npy1500', X_val)\n",
    "np.save('C:/Users/krish/Hackathon/derment machine testing/lists/y_train_one_hot.npy1500', y_train_one_hot)\n",
    "np.save('C:/Users/krish/Hackathon/derment machine testing/lists/y_val_one_hot.npy1500', y_val_one_hot)\n",
    "\n",
    "# Save label encoder\n",
    "with open('C:/Users/krish/Hackathon/derment machine testing/lists/label_encoder1500.pkl', 'wb') as f:\n",
    "    pickle.dump(le, f)"
   ]
  },
  {
   "cell_type": "code",
   "execution_count": null,
   "id": "1574b23b-72c8-4eea-b120-709968b62920",
   "metadata": {},
   "outputs": [],
   "source": [
    "#KAGGLE NOTEBOOK IMPLEMENTATION BELOW"
   ]
  },
  {
   "cell_type": "code",
   "execution_count": 5,
   "id": "b0740daa",
   "metadata": {},
   "outputs": [],
   "source": [
    "X_train = np.load(\"C:/Users/krish/Hackathon/derment machine testing/lists/X_train1500.npy\")\n",
    "X_val = np.load(\"C:/Users/krish/Hackathon/derment machine testing/lists/X_val.npy1500.npy\")\n",
    "y_train_one_hot = np.load(\"C:/Users/krish/Hackathon/derment machine testing/lists/y_train_one_hot.npy1500.npy\")\n",
    "y_val_one_hot = np.load(\"C:/Users/krish/Hackathon/derment machine testing/lists/y_val_one_hot.npy1500.npy\")"
   ]
  },
  {
   "cell_type": "code",
   "execution_count": 7,
   "id": "6f27af64",
   "metadata": {},
   "outputs": [],
   "source": [
    "with open('C:/Users/krish/Hackathon/derment machine testing/lists/label_encoder1500.pkl', 'rb') as f:\n",
    "    le = pickle.load(f)"
   ]
  },
  {
   "cell_type": "code",
   "execution_count": 9,
   "id": "470fd341-aaea-4ba9-99b7-7581cdb73080",
   "metadata": {},
   "outputs": [
    {
     "ename": "ImportError",
     "evalue": "Loading a H5 file requires `h5py` to be installed.",
     "output_type": "error",
     "traceback": [
      "\u001b[1;31m-------------------------------------------------------------------------\u001b[0m",
      "\u001b[1;31mImportError\u001b[0m                             Traceback (most recent call last)",
      "\u001b[1;32m~\\AppData\\Local\\Temp\\ipykernel_3696\\3111192549.py\u001b[0m in \u001b[0;36m<module>\u001b[1;34m\u001b[0m\n\u001b[1;32m----> 1\u001b[1;33m \u001b[0mbase_model\u001b[0m \u001b[1;33m=\u001b[0m \u001b[0mResNet50\u001b[0m\u001b[1;33m(\u001b[0m\u001b[0mweights\u001b[0m\u001b[1;33m=\u001b[0m\u001b[1;34m'imagenet'\u001b[0m\u001b[1;33m,\u001b[0m \u001b[0minclude_top\u001b[0m\u001b[1;33m=\u001b[0m\u001b[1;32mFalse\u001b[0m\u001b[1;33m,\u001b[0m \u001b[0minput_shape\u001b[0m\u001b[1;33m=\u001b[0m\u001b[1;33m(\u001b[0m\u001b[1;36m224\u001b[0m\u001b[1;33m,\u001b[0m \u001b[1;36m224\u001b[0m\u001b[1;33m,\u001b[0m \u001b[1;36m3\u001b[0m\u001b[1;33m)\u001b[0m\u001b[1;33m)\u001b[0m\u001b[1;33m\u001b[0m\u001b[1;33m\u001b[0m\u001b[0m\n\u001b[0m\u001b[0;32m      2\u001b[0m \u001b[0mbase_model\u001b[0m\u001b[1;33m.\u001b[0m\u001b[0mtrainable\u001b[0m \u001b[1;33m=\u001b[0m \u001b[1;32mFalse\u001b[0m\u001b[1;33m\u001b[0m\u001b[1;33m\u001b[0m\u001b[0m\n\u001b[0;32m      3\u001b[0m \u001b[0mnum_classes\u001b[0m \u001b[1;33m=\u001b[0m \u001b[0mlen\u001b[0m\u001b[1;33m(\u001b[0m\u001b[0mclasses\u001b[0m\u001b[1;33m)\u001b[0m\u001b[1;33m\u001b[0m\u001b[1;33m\u001b[0m\u001b[0m\n\u001b[0;32m      4\u001b[0m \u001b[0mx\u001b[0m \u001b[1;33m=\u001b[0m \u001b[0mGlobalAveragePooling2D\u001b[0m\u001b[1;33m(\u001b[0m\u001b[1;33m)\u001b[0m\u001b[1;33m(\u001b[0m\u001b[0mbase_model\u001b[0m\u001b[1;33m.\u001b[0m\u001b[0moutput\u001b[0m\u001b[1;33m)\u001b[0m\u001b[1;33m\u001b[0m\u001b[1;33m\u001b[0m\u001b[0m\n\u001b[0;32m      5\u001b[0m \u001b[0mx\u001b[0m \u001b[1;33m=\u001b[0m \u001b[0mDense\u001b[0m\u001b[1;33m(\u001b[0m\u001b[1;36m600\u001b[0m\u001b[1;33m,\u001b[0m \u001b[0mactivation\u001b[0m\u001b[1;33m=\u001b[0m\u001b[1;34m'relu'\u001b[0m\u001b[1;33m)\u001b[0m\u001b[1;33m(\u001b[0m\u001b[0mx\u001b[0m\u001b[1;33m)\u001b[0m\u001b[1;33m\u001b[0m\u001b[1;33m\u001b[0m\u001b[0m\n",
      "\u001b[1;32m~\\anaconda3\\lib\\site-packages\\keras\\src\\applications\\resnet.py\u001b[0m in \u001b[0;36mResNet50\u001b[1;34m(include_top, weights, input_tensor, input_shape, pooling, classes, classifier_activation)\u001b[0m\n\u001b[0;32m    404\u001b[0m         \u001b[1;32mreturn\u001b[0m \u001b[0mstack_residual_blocks_v1\u001b[0m\u001b[1;33m(\u001b[0m\u001b[0mx\u001b[0m\u001b[1;33m,\u001b[0m \u001b[1;36m512\u001b[0m\u001b[1;33m,\u001b[0m \u001b[1;36m3\u001b[0m\u001b[1;33m,\u001b[0m \u001b[0mname\u001b[0m\u001b[1;33m=\u001b[0m\u001b[1;34m\"conv5\"\u001b[0m\u001b[1;33m)\u001b[0m\u001b[1;33m\u001b[0m\u001b[1;33m\u001b[0m\u001b[0m\n\u001b[0;32m    405\u001b[0m \u001b[1;33m\u001b[0m\u001b[0m\n\u001b[1;32m--> 406\u001b[1;33m     return ResNet(\n\u001b[0m\u001b[0;32m    407\u001b[0m         \u001b[0mstack_fn\u001b[0m\u001b[1;33m,\u001b[0m\u001b[1;33m\u001b[0m\u001b[1;33m\u001b[0m\u001b[0m\n\u001b[0;32m    408\u001b[0m         \u001b[1;32mFalse\u001b[0m\u001b[1;33m,\u001b[0m\u001b[1;33m\u001b[0m\u001b[1;33m\u001b[0m\u001b[0m\n",
      "\u001b[1;32m~\\anaconda3\\lib\\site-packages\\keras\\src\\applications\\resnet.py\u001b[0m in \u001b[0;36mResNet\u001b[1;34m(stack_fn, preact, use_bias, model_name, include_top, weights, input_tensor, input_shape, pooling, classes, classifier_activation)\u001b[0m\n\u001b[0;32m    208\u001b[0m             \u001b[0mfile_hash\u001b[0m\u001b[1;33m=\u001b[0m\u001b[0mfile_hash\u001b[0m\u001b[1;33m,\u001b[0m\u001b[1;33m\u001b[0m\u001b[1;33m\u001b[0m\u001b[0m\n\u001b[0;32m    209\u001b[0m         )\n\u001b[1;32m--> 210\u001b[1;33m         \u001b[0mmodel\u001b[0m\u001b[1;33m.\u001b[0m\u001b[0mload_weights\u001b[0m\u001b[1;33m(\u001b[0m\u001b[0mweights_path\u001b[0m\u001b[1;33m)\u001b[0m\u001b[1;33m\u001b[0m\u001b[1;33m\u001b[0m\u001b[0m\n\u001b[0m\u001b[0;32m    211\u001b[0m     \u001b[1;32melif\u001b[0m \u001b[0mweights\u001b[0m \u001b[1;32mis\u001b[0m \u001b[1;32mnot\u001b[0m \u001b[1;32mNone\u001b[0m\u001b[1;33m:\u001b[0m\u001b[1;33m\u001b[0m\u001b[1;33m\u001b[0m\u001b[0m\n\u001b[0;32m    212\u001b[0m         \u001b[0mmodel\u001b[0m\u001b[1;33m.\u001b[0m\u001b[0mload_weights\u001b[0m\u001b[1;33m(\u001b[0m\u001b[0mweights\u001b[0m\u001b[1;33m)\u001b[0m\u001b[1;33m\u001b[0m\u001b[1;33m\u001b[0m\u001b[0m\n",
      "\u001b[1;32m~\\anaconda3\\lib\\site-packages\\keras\\src\\utils\\traceback_utils.py\u001b[0m in \u001b[0;36merror_handler\u001b[1;34m(*args, **kwargs)\u001b[0m\n\u001b[0;32m    120\u001b[0m             \u001b[1;31m# To get the full stack trace, call:\u001b[0m\u001b[1;33m\u001b[0m\u001b[1;33m\u001b[0m\u001b[0m\n\u001b[0;32m    121\u001b[0m             \u001b[1;31m# `keras.config.disable_traceback_filtering()`\u001b[0m\u001b[1;33m\u001b[0m\u001b[1;33m\u001b[0m\u001b[0m\n\u001b[1;32m--> 122\u001b[1;33m             \u001b[1;32mraise\u001b[0m \u001b[0me\u001b[0m\u001b[1;33m.\u001b[0m\u001b[0mwith_traceback\u001b[0m\u001b[1;33m(\u001b[0m\u001b[0mfiltered_tb\u001b[0m\u001b[1;33m)\u001b[0m \u001b[1;32mfrom\u001b[0m \u001b[1;32mNone\u001b[0m\u001b[1;33m\u001b[0m\u001b[1;33m\u001b[0m\u001b[0m\n\u001b[0m\u001b[0;32m    123\u001b[0m         \u001b[1;32mfinally\u001b[0m\u001b[1;33m:\u001b[0m\u001b[1;33m\u001b[0m\u001b[1;33m\u001b[0m\u001b[0m\n\u001b[0;32m    124\u001b[0m             \u001b[1;32mdel\u001b[0m \u001b[0mfiltered_tb\u001b[0m\u001b[1;33m\u001b[0m\u001b[1;33m\u001b[0m\u001b[0m\n",
      "\u001b[1;32m~\\anaconda3\\lib\\site-packages\\keras\\src\\saving\\saving_api.py\u001b[0m in \u001b[0;36mload_weights\u001b[1;34m(model, filepath, skip_mismatch, **kwargs)\u001b[0m\n\u001b[0;32m    222\u001b[0m             \u001b[1;32mraise\u001b[0m \u001b[0mValueError\u001b[0m\u001b[1;33m(\u001b[0m\u001b[1;34mf\"Invalid keyword arguments: {kwargs}\"\u001b[0m\u001b[1;33m)\u001b[0m\u001b[1;33m\u001b[0m\u001b[1;33m\u001b[0m\u001b[0m\n\u001b[0;32m    223\u001b[0m         \u001b[1;32mif\u001b[0m \u001b[1;32mnot\u001b[0m \u001b[0mh5py\u001b[0m\u001b[1;33m:\u001b[0m\u001b[1;33m\u001b[0m\u001b[1;33m\u001b[0m\u001b[0m\n\u001b[1;32m--> 224\u001b[1;33m             raise ImportError(\n\u001b[0m\u001b[0;32m    225\u001b[0m                 \u001b[1;34m\"Loading a H5 file requires `h5py` to be installed.\"\u001b[0m\u001b[1;33m\u001b[0m\u001b[1;33m\u001b[0m\u001b[0m\n\u001b[0;32m    226\u001b[0m             )\n",
      "\u001b[1;31mImportError\u001b[0m: Loading a H5 file requires `h5py` to be installed."
     ]
    }
   ],
   "source": [
    "base_model = ResNet50(weights='imagenet', include_top=False, input_shape=(224, 224, 3))\n",
    "base_model.trainable = False\n",
    "num_classes = len(classes)\n",
    "x = GlobalAveragePooling2D()(base_model.output)\n",
    "x = Dense(600, activation='relu')(x)\n",
    "predictions = Dense(num_classes, activation='softmax')(x)\n",
    "model = Model(inputs=base_model.input, outputs=predictions)\n",
    "model.compile(optimizer=tf.keras.optimizers.Adam(), loss='categorical_crossentropy', metrics=['accuracy'])"
   ]
  },
  {
   "cell_type": "code",
   "execution_count": null,
   "id": "88cf060b-1d59-43dd-b0af-eef91bd28c35",
   "metadata": {},
   "outputs": [],
   "source": [
    "checkpoint_path = \"C:/Users/krish/Hackathon/derment machine testing/LatestModelParameterTesting/augmented15classes.h5\"\n",
    "checkpoint_callback = ModelCheckpoint(filepath=checkpoint_path,\n",
    "                                            save_weights_only=False,\n",
    "                                            save_best_only=True,\n",
    "                                            monitor='val_accuracy',\n",
    "                                            mode='max',\n",
    "                                            verbose=1)"
   ]
  },
  {
   "cell_type": "code",
   "execution_count": null,
   "id": "e5f8ee11-a909-4573-89c7-08193327abbb",
   "metadata": {},
   "outputs": [],
   "source": [
    "EPOCHS = 20\n",
    "BATCH_SIZE = 1024\n",
    "history = model.fit(X_train, y_train_one_hot, validation_data=(X_val, y_val_one_hot),\n",
    "                   epochs = EPOCHS, batch_size=BATCH_SIZE, callbacks=[checkpoint_callback])"
   ]
  },
  {
   "cell_type": "code",
   "execution_count": null,
   "id": "c705fd2f-0e62-4b47-8b71-ead17884c1a5",
   "metadata": {},
   "outputs": [],
   "source": [
    "#Loss Graph\n",
    "train_loss = history.history['loss']\n",
    "val_loss = history.history['val_loss']\n",
    "epochs = range(1, len(train_loss) + 1)\n",
    "plt.plot(epochs, train_loss,label='Training loss', marker='o')\n",
    "plt.plot(epochs, val_loss,label='Validation loss', marker='o')\n",
    "plt.title('Training and Validation Losses')\n",
    "plt.xlabel('Epochs')\n",
    "plt.ylabel('Loss')\n",
    "plt.legend()\n",
    "plt.show()"
   ]
  },
  {
   "cell_type": "code",
   "execution_count": null,
   "id": "4e0e8881-2439-4068-b5e0-cd6a35aa4e7c",
   "metadata": {},
   "outputs": [],
   "source": [
    "#Accuracy Graph\n",
    "train_loss = history.history['accuracy']\n",
    "val_loss = history.history['val_accuracy']\n",
    "epochs = range(1, len(train_loss) + 1)\n",
    "plt.plot(epochs, train_loss,label='Training accuracy', marker='o')\n",
    "plt.plot(epochs, val_loss,label='Validation accuracy', marker='o')\n",
    "plt.title('Training and Validation accuracy')\n",
    "plt.xlabel('Epochs')\n",
    "plt.ylabel('Acc')\n",
    "plt.legend()\n",
    "plt.show()"
   ]
  },
  {
   "cell_type": "code",
   "execution_count": null,
   "id": "c944831f-07d8-4d31-aec6-0d784d7a3b52",
   "metadata": {},
   "outputs": [],
   "source": [
    "pip install tensorflow==2.15.0"
   ]
  },
  {
   "cell_type": "code",
   "execution_count": 9,
   "id": "e23f9c31-0976-40a1-acb7-7895b23ae848",
   "metadata": {},
   "outputs": [
    {
     "ename": "ModuleNotFoundError",
     "evalue": "No module named 'tensorflow.compat'",
     "output_type": "error",
     "traceback": [
      "\u001b[1;31m---------------------------------------------------------------------------\u001b[0m",
      "\u001b[1;31mModuleNotFoundError\u001b[0m                       Traceback (most recent call last)",
      "Cell \u001b[1;32mIn[9], line 1\u001b[0m\n\u001b[1;32m----> 1\u001b[0m \u001b[38;5;28;01mimport\u001b[39;00m \u001b[38;5;21;01mkeras\u001b[39;00m\n",
      "File \u001b[1;32m~\\anaconda3\\envs\\tf\\lib\\site-packages\\keras\\__init__.py:3\u001b[0m\n\u001b[0;32m      1\u001b[0m \u001b[38;5;124;03m\"\"\"AUTOGENERATED. DO NOT EDIT.\"\"\"\u001b[39;00m\n\u001b[1;32m----> 3\u001b[0m \u001b[38;5;28;01mfrom\u001b[39;00m \u001b[38;5;21;01mkeras\u001b[39;00m \u001b[38;5;28;01mimport\u001b[39;00m __internal__\n\u001b[0;32m      4\u001b[0m \u001b[38;5;28;01mfrom\u001b[39;00m \u001b[38;5;21;01mkeras\u001b[39;00m \u001b[38;5;28;01mimport\u001b[39;00m activations\n\u001b[0;32m      5\u001b[0m \u001b[38;5;28;01mfrom\u001b[39;00m \u001b[38;5;21;01mkeras\u001b[39;00m \u001b[38;5;28;01mimport\u001b[39;00m applications\n",
      "File \u001b[1;32m~\\anaconda3\\envs\\tf\\lib\\site-packages\\keras\\__internal__\\__init__.py:3\u001b[0m\n\u001b[0;32m      1\u001b[0m \u001b[38;5;124;03m\"\"\"AUTOGENERATED. DO NOT EDIT.\"\"\"\u001b[39;00m\n\u001b[1;32m----> 3\u001b[0m \u001b[38;5;28;01mfrom\u001b[39;00m \u001b[38;5;21;01mkeras\u001b[39;00m\u001b[38;5;21;01m.\u001b[39;00m\u001b[38;5;21;01m__internal__\u001b[39;00m \u001b[38;5;28;01mimport\u001b[39;00m backend\n\u001b[0;32m      4\u001b[0m \u001b[38;5;28;01mfrom\u001b[39;00m \u001b[38;5;21;01mkeras\u001b[39;00m\u001b[38;5;21;01m.\u001b[39;00m\u001b[38;5;21;01m__internal__\u001b[39;00m \u001b[38;5;28;01mimport\u001b[39;00m layers\n\u001b[0;32m      5\u001b[0m \u001b[38;5;28;01mfrom\u001b[39;00m \u001b[38;5;21;01mkeras\u001b[39;00m\u001b[38;5;21;01m.\u001b[39;00m\u001b[38;5;21;01m__internal__\u001b[39;00m \u001b[38;5;28;01mimport\u001b[39;00m losses\n",
      "File \u001b[1;32m~\\anaconda3\\envs\\tf\\lib\\site-packages\\keras\\__internal__\\backend\\__init__.py:3\u001b[0m\n\u001b[0;32m      1\u001b[0m \u001b[38;5;124;03m\"\"\"AUTOGENERATED. DO NOT EDIT.\"\"\"\u001b[39;00m\n\u001b[1;32m----> 3\u001b[0m \u001b[38;5;28;01mfrom\u001b[39;00m \u001b[38;5;21;01mkeras\u001b[39;00m\u001b[38;5;21;01m.\u001b[39;00m\u001b[38;5;21;01msrc\u001b[39;00m\u001b[38;5;21;01m.\u001b[39;00m\u001b[38;5;21;01mbackend\u001b[39;00m \u001b[38;5;28;01mimport\u001b[39;00m _initialize_variables \u001b[38;5;28;01mas\u001b[39;00m initialize_variables\n\u001b[0;32m      4\u001b[0m \u001b[38;5;28;01mfrom\u001b[39;00m \u001b[38;5;21;01mkeras\u001b[39;00m\u001b[38;5;21;01m.\u001b[39;00m\u001b[38;5;21;01msrc\u001b[39;00m\u001b[38;5;21;01m.\u001b[39;00m\u001b[38;5;21;01mbackend\u001b[39;00m \u001b[38;5;28;01mimport\u001b[39;00m track_variable\n",
      "File \u001b[1;32m~\\anaconda3\\envs\\tf\\lib\\site-packages\\keras\\src\\__init__.py:21\u001b[0m\n\u001b[0;32m      1\u001b[0m \u001b[38;5;66;03m# Copyright 2015 The TensorFlow Authors. All Rights Reserved.\u001b[39;00m\n\u001b[0;32m      2\u001b[0m \u001b[38;5;66;03m#\u001b[39;00m\n\u001b[0;32m      3\u001b[0m \u001b[38;5;66;03m# Licensed under the Apache License, Version 2.0 (the \"License\");\u001b[39;00m\n\u001b[1;32m   (...)\u001b[0m\n\u001b[0;32m     13\u001b[0m \u001b[38;5;66;03m# limitations under the License.\u001b[39;00m\n\u001b[0;32m     14\u001b[0m \u001b[38;5;66;03m# ==============================================================================\u001b[39;00m\n\u001b[0;32m     15\u001b[0m \u001b[38;5;124;03m\"\"\"Implementation of the Keras API, the high-level API of TensorFlow.\u001b[39;00m\n\u001b[0;32m     16\u001b[0m \n\u001b[0;32m     17\u001b[0m \u001b[38;5;124;03mDetailed documentation and user guides are available at\u001b[39;00m\n\u001b[0;32m     18\u001b[0m \u001b[38;5;124;03m[keras.io](https://keras.io).\u001b[39;00m\n\u001b[0;32m     19\u001b[0m \u001b[38;5;124;03m\"\"\"\u001b[39;00m\n\u001b[1;32m---> 21\u001b[0m \u001b[38;5;28;01mfrom\u001b[39;00m \u001b[38;5;21;01mkeras\u001b[39;00m\u001b[38;5;21;01m.\u001b[39;00m\u001b[38;5;21;01msrc\u001b[39;00m \u001b[38;5;28;01mimport\u001b[39;00m applications\n\u001b[0;32m     22\u001b[0m \u001b[38;5;28;01mfrom\u001b[39;00m \u001b[38;5;21;01mkeras\u001b[39;00m\u001b[38;5;21;01m.\u001b[39;00m\u001b[38;5;21;01msrc\u001b[39;00m \u001b[38;5;28;01mimport\u001b[39;00m distribute\n\u001b[0;32m     23\u001b[0m \u001b[38;5;28;01mfrom\u001b[39;00m \u001b[38;5;21;01mkeras\u001b[39;00m\u001b[38;5;21;01m.\u001b[39;00m\u001b[38;5;21;01msrc\u001b[39;00m \u001b[38;5;28;01mimport\u001b[39;00m models\n",
      "File \u001b[1;32m~\\anaconda3\\envs\\tf\\lib\\site-packages\\keras\\src\\applications\\__init__.py:18\u001b[0m\n\u001b[0;32m      1\u001b[0m \u001b[38;5;66;03m# Copyright 2016 The TensorFlow Authors. All Rights Reserved.\u001b[39;00m\n\u001b[0;32m      2\u001b[0m \u001b[38;5;66;03m#\u001b[39;00m\n\u001b[0;32m      3\u001b[0m \u001b[38;5;66;03m# Licensed under the Apache License, Version 2.0 (the \"License\");\u001b[39;00m\n\u001b[1;32m   (...)\u001b[0m\n\u001b[0;32m     13\u001b[0m \u001b[38;5;66;03m# limitations under the License.\u001b[39;00m\n\u001b[0;32m     14\u001b[0m \u001b[38;5;66;03m# ==============================================================================\u001b[39;00m\n\u001b[0;32m     15\u001b[0m \u001b[38;5;124;03m\"\"\"Keras Applications are premade architectures with pre-trained weights.\"\"\"\u001b[39;00m\n\u001b[1;32m---> 18\u001b[0m \u001b[38;5;28;01mfrom\u001b[39;00m \u001b[38;5;21;01mkeras\u001b[39;00m\u001b[38;5;21;01m.\u001b[39;00m\u001b[38;5;21;01msrc\u001b[39;00m\u001b[38;5;21;01m.\u001b[39;00m\u001b[38;5;21;01mapplications\u001b[39;00m\u001b[38;5;21;01m.\u001b[39;00m\u001b[38;5;21;01mconvnext\u001b[39;00m \u001b[38;5;28;01mimport\u001b[39;00m ConvNeXtBase\n\u001b[0;32m     19\u001b[0m \u001b[38;5;28;01mfrom\u001b[39;00m \u001b[38;5;21;01mkeras\u001b[39;00m\u001b[38;5;21;01m.\u001b[39;00m\u001b[38;5;21;01msrc\u001b[39;00m\u001b[38;5;21;01m.\u001b[39;00m\u001b[38;5;21;01mapplications\u001b[39;00m\u001b[38;5;21;01m.\u001b[39;00m\u001b[38;5;21;01mconvnext\u001b[39;00m \u001b[38;5;28;01mimport\u001b[39;00m ConvNeXtLarge\n\u001b[0;32m     20\u001b[0m \u001b[38;5;28;01mfrom\u001b[39;00m \u001b[38;5;21;01mkeras\u001b[39;00m\u001b[38;5;21;01m.\u001b[39;00m\u001b[38;5;21;01msrc\u001b[39;00m\u001b[38;5;21;01m.\u001b[39;00m\u001b[38;5;21;01mapplications\u001b[39;00m\u001b[38;5;21;01m.\u001b[39;00m\u001b[38;5;21;01mconvnext\u001b[39;00m \u001b[38;5;28;01mimport\u001b[39;00m ConvNeXtSmall\n",
      "File \u001b[1;32m~\\anaconda3\\envs\\tf\\lib\\site-packages\\keras\\src\\applications\\convnext.py:26\u001b[0m\n\u001b[0;32m     17\u001b[0m \u001b[38;5;124;03m\"\"\"ConvNeXt models for Keras.\u001b[39;00m\n\u001b[0;32m     18\u001b[0m \n\u001b[0;32m     19\u001b[0m \u001b[38;5;124;03mReferences:\u001b[39;00m\n\u001b[1;32m   (...)\u001b[0m\n\u001b[0;32m     22\u001b[0m \u001b[38;5;124;03m  (CVPR 2022)\u001b[39;00m\n\u001b[0;32m     23\u001b[0m \u001b[38;5;124;03m\"\"\"\u001b[39;00m\n\u001b[0;32m     25\u001b[0m \u001b[38;5;28;01mimport\u001b[39;00m \u001b[38;5;21;01mnumpy\u001b[39;00m \u001b[38;5;28;01mas\u001b[39;00m \u001b[38;5;21;01mnp\u001b[39;00m\n\u001b[1;32m---> 26\u001b[0m \u001b[38;5;28;01mimport\u001b[39;00m \u001b[38;5;21;01mtensorflow\u001b[39;00m\u001b[38;5;21;01m.\u001b[39;00m\u001b[38;5;21;01mcompat\u001b[39;00m\u001b[38;5;21;01m.\u001b[39;00m\u001b[38;5;21;01mv2\u001b[39;00m \u001b[38;5;28;01mas\u001b[39;00m \u001b[38;5;21;01mtf\u001b[39;00m\n\u001b[0;32m     28\u001b[0m \u001b[38;5;28;01mfrom\u001b[39;00m \u001b[38;5;21;01mkeras\u001b[39;00m\u001b[38;5;21;01m.\u001b[39;00m\u001b[38;5;21;01msrc\u001b[39;00m \u001b[38;5;28;01mimport\u001b[39;00m backend\n\u001b[0;32m     29\u001b[0m \u001b[38;5;28;01mfrom\u001b[39;00m \u001b[38;5;21;01mkeras\u001b[39;00m\u001b[38;5;21;01m.\u001b[39;00m\u001b[38;5;21;01msrc\u001b[39;00m \u001b[38;5;28;01mimport\u001b[39;00m initializers\n",
      "\u001b[1;31mModuleNotFoundError\u001b[0m: No module named 'tensorflow.compat'"
     ]
    }
   ],
   "source": [
    "import keras"
   ]
  },
  {
   "cell_type": "code",
   "execution_count": 8,
   "id": "43c68c96-8a84-4eff-9ef5-df712ed466a0",
   "metadata": {},
   "outputs": [
    {
     "ename": "NameError",
     "evalue": "name 'keras' is not defined",
     "output_type": "error",
     "traceback": [
      "\u001b[1;31m---------------------------------------------------------------------------\u001b[0m",
      "\u001b[1;31mNameError\u001b[0m                                 Traceback (most recent call last)",
      "Cell \u001b[1;32mIn[8], line 1\u001b[0m\n\u001b[1;32m----> 1\u001b[0m model \u001b[38;5;241m=\u001b[39m \u001b[43mkeras\u001b[49m\u001b[38;5;241m.\u001b[39mmodels\u001b[38;5;241m.\u001b[39mload_model(\u001b[38;5;124m\"\u001b[39m\u001b[38;5;124mC:/Users/krish/Hackathon/derment machine testing/LatestModelParameterTesting/classes15100050.h5\u001b[39m\u001b[38;5;124m\"\u001b[39m)\n",
      "\u001b[1;31mNameError\u001b[0m: name 'keras' is not defined"
     ]
    }
   ],
   "source": [
    "model = keras.models.load_model(\"C:/Users/krish/Hackathon/derment machine testing/LatestModelParameterTesting/classes15100050.h5\") "
   ]
  },
  {
   "cell_type": "code",
   "execution_count": null,
   "id": "57b5c491-5cf9-410e-9e7b-d8e0031fa5e4",
   "metadata": {},
   "outputs": [],
   "source": [
    "folder_path"
   ]
  },
  {
   "cell_type": "code",
   "execution_count": null,
   "id": "a8f18147-b2f8-4d3f-8e43-bc81bef23fb6",
   "metadata": {
    "scrolled": true
   },
   "outputs": [],
   "source": [
    "real_label = []\n",
    "predicted_class = []\n",
    "file_path = os.path.join(folder_path, file)\n",
    "\n",
    "for folder in os.listdir(test_path):\n",
    "    folder_path = os.path.join(test_path, folder)\n",
    "    for file in os.listdir(folder_path):\n",
    "        file_path = os.path.join(folder_path, file)\n",
    "        img = cv2.imread(file_path)\n",
    "        img = cv2.resize(img, (224,224))\n",
    "        img = preprocess_input(np.array([img]))  # Add an extra dimension for batching\n",
    "\n",
    "        predictions = model.predict(img)\n",
    "        real_label.append(folder)\n",
    "        predicted_class_index = np.argmax(predictions)\n",
    "        predicted_class.append(le.classes_[predicted_class_index])\n"
   ]
  },
  {
   "cell_type": "code",
   "execution_count": null,
   "id": "a54b5cf3-3015-440e-a072-1c7154f49268",
   "metadata": {},
   "outputs": [],
   "source": [
    "conf_matrix = confusion_matrix(real_label, predicted_class)\n",
    "sns.heatmap(conf_matrix, annot=True, fmt='d', cmap='Blues')\n",
    "accuracy = accuracy_score(real_label, predicted_class)\n",
    "plt.title(f'Confusion Matrix\\nAccuracy: {accuracy:.2f}')\n",
    "plt.xlabel('Predicted')\n",
    "plt.ylabel('Actual')\n",
    "plt.show()"
   ]
  },
  {
   "cell_type": "code",
   "execution_count": null,
   "id": "38d45956-9a6e-4475-9704-23d5a9dceb2f",
   "metadata": {},
   "outputs": [],
   "source": []
  }
 ],
 "metadata": {
  "kernelspec": {
   "display_name": "Python 3 (ipykernel)",
   "language": "python",
   "name": "python3"
  },
  "language_info": {
   "codemirror_mode": {
    "name": "ipython",
    "version": 3
   },
   "file_extension": ".py",
   "mimetype": "text/x-python",
   "name": "python",
   "nbconvert_exporter": "python",
   "pygments_lexer": "ipython3",
   "version": "3.9.19"
  }
 },
 "nbformat": 4,
 "nbformat_minor": 5
}
